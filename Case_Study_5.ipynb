{
  "nbformat": 4,
  "nbformat_minor": 0,
  "metadata": {
    "colab": {
      "name": "Case Study 5.ipynb",
      "provenance": [],
      "collapsed_sections": [],
      "mount_file_id": "1IcbXzb2fC9Yt09jabyoO373WXVZBUsXl",
      "authorship_tag": "ABX9TyO+SOLthvITiO9rlVr2nbf/",
      "include_colab_link": true
    },
    "kernelspec": {
      "name": "python3",
      "display_name": "Python 3"
    },
    "language_info": {
      "name": "python"
    }
  },
  "cells": [
    {
      "cell_type": "markdown",
      "metadata": {
        "id": "view-in-github",
        "colab_type": "text"
      },
      "source": [
        "<a href=\"https://colab.research.google.com/github/Jomonjoseph25/DSA_B5_Assignments/blob/main/Case_Study_5.ipynb\" target=\"_parent\"><img src=\"https://colab.research.google.com/assets/colab-badge.svg\" alt=\"Open In Colab\"/></a>"
      ]
    },
    {
      "cell_type": "code",
      "execution_count": 1,
      "metadata": {
        "id": "zbiE6wAdz9Gv"
      },
      "outputs": [],
      "source": [
        "import pandas as pd\n",
        "import numpy as np\n",
        "import matplotlib.pyplot as plt\n",
        "import seaborn as sns"
      ]
    },
    {
      "cell_type": "code",
      "source": [
        "Data=pd.read_csv('/content/drive/MyDrive/Case Study 5/Sales_data_zone_wise.csv')\n",
        "Data"
      ],
      "metadata": {
        "colab": {
          "base_uri": "https://localhost:8080/",
          "height": 957
        },
        "id": "NMlC4S7d0N2D",
        "outputId": "d9699aed-7c63-4aa3-9c4b-baf89bbe6391"
      },
      "execution_count": 2,
      "outputs": [
        {
          "output_type": "execute_result",
          "data": {
            "text/html": [
              "\n",
              "  <div id=\"df-6b6c5470-f5f1-499e-9590-5e5844c24806\">\n",
              "    <div class=\"colab-df-container\">\n",
              "      <div>\n",
              "<style scoped>\n",
              "    .dataframe tbody tr th:only-of-type {\n",
              "        vertical-align: middle;\n",
              "    }\n",
              "\n",
              "    .dataframe tbody tr th {\n",
              "        vertical-align: top;\n",
              "    }\n",
              "\n",
              "    .dataframe thead th {\n",
              "        text-align: right;\n",
              "    }\n",
              "</style>\n",
              "<table border=\"1\" class=\"dataframe\">\n",
              "  <thead>\n",
              "    <tr style=\"text-align: right;\">\n",
              "      <th></th>\n",
              "      <th>Month</th>\n",
              "      <th>Zone - A</th>\n",
              "      <th>Zone - B</th>\n",
              "      <th>Zone - C</th>\n",
              "      <th>Zone - D</th>\n",
              "    </tr>\n",
              "  </thead>\n",
              "  <tbody>\n",
              "    <tr>\n",
              "      <th>0</th>\n",
              "      <td>Month - 1</td>\n",
              "      <td>1483525</td>\n",
              "      <td>1748451</td>\n",
              "      <td>1523308</td>\n",
              "      <td>2267260</td>\n",
              "    </tr>\n",
              "    <tr>\n",
              "      <th>1</th>\n",
              "      <td>Month - 2</td>\n",
              "      <td>1238428</td>\n",
              "      <td>1707421</td>\n",
              "      <td>2212113</td>\n",
              "      <td>1994341</td>\n",
              "    </tr>\n",
              "    <tr>\n",
              "      <th>2</th>\n",
              "      <td>Month - 3</td>\n",
              "      <td>1860771</td>\n",
              "      <td>2091194</td>\n",
              "      <td>1282374</td>\n",
              "      <td>1241600</td>\n",
              "    </tr>\n",
              "    <tr>\n",
              "      <th>3</th>\n",
              "      <td>Month - 4</td>\n",
              "      <td>1871571</td>\n",
              "      <td>1759617</td>\n",
              "      <td>2290580</td>\n",
              "      <td>2252681</td>\n",
              "    </tr>\n",
              "    <tr>\n",
              "      <th>4</th>\n",
              "      <td>Month - 5</td>\n",
              "      <td>1244922</td>\n",
              "      <td>1606010</td>\n",
              "      <td>1818334</td>\n",
              "      <td>1326062</td>\n",
              "    </tr>\n",
              "    <tr>\n",
              "      <th>5</th>\n",
              "      <td>Month - 6</td>\n",
              "      <td>1534390</td>\n",
              "      <td>1573128</td>\n",
              "      <td>1751825</td>\n",
              "      <td>2292044</td>\n",
              "    </tr>\n",
              "    <tr>\n",
              "      <th>6</th>\n",
              "      <td>Month - 7</td>\n",
              "      <td>1820196</td>\n",
              "      <td>1992031</td>\n",
              "      <td>1786826</td>\n",
              "      <td>1688055</td>\n",
              "    </tr>\n",
              "    <tr>\n",
              "      <th>7</th>\n",
              "      <td>Month - 8</td>\n",
              "      <td>1625696</td>\n",
              "      <td>1665534</td>\n",
              "      <td>2161754</td>\n",
              "      <td>2363315</td>\n",
              "    </tr>\n",
              "    <tr>\n",
              "      <th>8</th>\n",
              "      <td>Month - 9</td>\n",
              "      <td>1652644</td>\n",
              "      <td>1873402</td>\n",
              "      <td>1755290</td>\n",
              "      <td>1422059</td>\n",
              "    </tr>\n",
              "    <tr>\n",
              "      <th>9</th>\n",
              "      <td>Month - 10</td>\n",
              "      <td>1852450</td>\n",
              "      <td>1913059</td>\n",
              "      <td>1754314</td>\n",
              "      <td>1608387</td>\n",
              "    </tr>\n",
              "    <tr>\n",
              "      <th>10</th>\n",
              "      <td>Month - 11</td>\n",
              "      <td>2004480</td>\n",
              "      <td>1740365</td>\n",
              "      <td>1317869</td>\n",
              "      <td>1970069</td>\n",
              "    </tr>\n",
              "    <tr>\n",
              "      <th>11</th>\n",
              "      <td>Month - 12</td>\n",
              "      <td>1537539</td>\n",
              "      <td>1875658</td>\n",
              "      <td>1237722</td>\n",
              "      <td>1460165</td>\n",
              "    </tr>\n",
              "    <tr>\n",
              "      <th>12</th>\n",
              "      <td>Month - 13</td>\n",
              "      <td>1254939</td>\n",
              "      <td>1588473</td>\n",
              "      <td>1348629</td>\n",
              "      <td>1733383</td>\n",
              "    </tr>\n",
              "    <tr>\n",
              "      <th>13</th>\n",
              "      <td>Month - 14</td>\n",
              "      <td>1821799</td>\n",
              "      <td>1844081</td>\n",
              "      <td>1617376</td>\n",
              "      <td>1872259</td>\n",
              "    </tr>\n",
              "    <tr>\n",
              "      <th>14</th>\n",
              "      <td>Month - 15</td>\n",
              "      <td>1128185</td>\n",
              "      <td>1804613</td>\n",
              "      <td>1767047</td>\n",
              "      <td>1234311</td>\n",
              "    </tr>\n",
              "    <tr>\n",
              "      <th>15</th>\n",
              "      <td>Month - 16</td>\n",
              "      <td>1491534</td>\n",
              "      <td>1542053</td>\n",
              "      <td>1882159</td>\n",
              "      <td>1590913</td>\n",
              "    </tr>\n",
              "    <tr>\n",
              "      <th>16</th>\n",
              "      <td>Month - 17</td>\n",
              "      <td>1182110</td>\n",
              "      <td>1552388</td>\n",
              "      <td>2234469</td>\n",
              "      <td>2180416</td>\n",
              "    </tr>\n",
              "    <tr>\n",
              "      <th>17</th>\n",
              "      <td>Month - 18</td>\n",
              "      <td>1770324</td>\n",
              "      <td>1699213</td>\n",
              "      <td>1249821</td>\n",
              "      <td>2364132</td>\n",
              "    </tr>\n",
              "    <tr>\n",
              "      <th>18</th>\n",
              "      <td>Month - 19</td>\n",
              "      <td>1181635</td>\n",
              "      <td>1959268</td>\n",
              "      <td>2009168</td>\n",
              "      <td>1821882</td>\n",
              "    </tr>\n",
              "    <tr>\n",
              "      <th>19</th>\n",
              "      <td>Month - 20</td>\n",
              "      <td>1305972</td>\n",
              "      <td>1559670</td>\n",
              "      <td>2107949</td>\n",
              "      <td>2151008</td>\n",
              "    </tr>\n",
              "    <tr>\n",
              "      <th>20</th>\n",
              "      <td>Month - 21</td>\n",
              "      <td>1570152</td>\n",
              "      <td>2013615</td>\n",
              "      <td>1540016</td>\n",
              "      <td>2265814</td>\n",
              "    </tr>\n",
              "    <tr>\n",
              "      <th>21</th>\n",
              "      <td>Month - 22</td>\n",
              "      <td>1481619</td>\n",
              "      <td>1527574</td>\n",
              "      <td>2255729</td>\n",
              "      <td>2295079</td>\n",
              "    </tr>\n",
              "    <tr>\n",
              "      <th>22</th>\n",
              "      <td>Month - 23</td>\n",
              "      <td>1887694</td>\n",
              "      <td>1992155</td>\n",
              "      <td>1348387</td>\n",
              "      <td>1459683</td>\n",
              "    </tr>\n",
              "    <tr>\n",
              "      <th>23</th>\n",
              "      <td>Month - 24</td>\n",
              "      <td>1880820</td>\n",
              "      <td>1752873</td>\n",
              "      <td>2098463</td>\n",
              "      <td>2052591</td>\n",
              "    </tr>\n",
              "    <tr>\n",
              "      <th>24</th>\n",
              "      <td>Month - 25</td>\n",
              "      <td>1256333</td>\n",
              "      <td>1622671</td>\n",
              "      <td>1521792</td>\n",
              "      <td>1695122</td>\n",
              "    </tr>\n",
              "    <tr>\n",
              "      <th>25</th>\n",
              "      <td>Month - 26</td>\n",
              "      <td>1422853</td>\n",
              "      <td>1715465</td>\n",
              "      <td>1853636</td>\n",
              "      <td>1520406</td>\n",
              "    </tr>\n",
              "    <tr>\n",
              "      <th>26</th>\n",
              "      <td>Month - 27</td>\n",
              "      <td>1384426</td>\n",
              "      <td>1983163</td>\n",
              "      <td>1611169</td>\n",
              "      <td>1289160</td>\n",
              "    </tr>\n",
              "    <tr>\n",
              "      <th>27</th>\n",
              "      <td>Month - 28</td>\n",
              "      <td>1616640</td>\n",
              "      <td>1547991</td>\n",
              "      <td>2128022</td>\n",
              "      <td>2178267</td>\n",
              "    </tr>\n",
              "    <tr>\n",
              "      <th>28</th>\n",
              "      <td>Month - 29</td>\n",
              "      <td>1310654</td>\n",
              "      <td>1660092</td>\n",
              "      <td>1947119</td>\n",
              "      <td>1854412</td>\n",
              "    </tr>\n",
              "  </tbody>\n",
              "</table>\n",
              "</div>\n",
              "      <button class=\"colab-df-convert\" onclick=\"convertToInteractive('df-6b6c5470-f5f1-499e-9590-5e5844c24806')\"\n",
              "              title=\"Convert this dataframe to an interactive table.\"\n",
              "              style=\"display:none;\">\n",
              "        \n",
              "  <svg xmlns=\"http://www.w3.org/2000/svg\" height=\"24px\"viewBox=\"0 0 24 24\"\n",
              "       width=\"24px\">\n",
              "    <path d=\"M0 0h24v24H0V0z\" fill=\"none\"/>\n",
              "    <path d=\"M18.56 5.44l.94 2.06.94-2.06 2.06-.94-2.06-.94-.94-2.06-.94 2.06-2.06.94zm-11 1L8.5 8.5l.94-2.06 2.06-.94-2.06-.94L8.5 2.5l-.94 2.06-2.06.94zm10 10l.94 2.06.94-2.06 2.06-.94-2.06-.94-.94-2.06-.94 2.06-2.06.94z\"/><path d=\"M17.41 7.96l-1.37-1.37c-.4-.4-.92-.59-1.43-.59-.52 0-1.04.2-1.43.59L10.3 9.45l-7.72 7.72c-.78.78-.78 2.05 0 2.83L4 21.41c.39.39.9.59 1.41.59.51 0 1.02-.2 1.41-.59l7.78-7.78 2.81-2.81c.8-.78.8-2.07 0-2.86zM5.41 20L4 18.59l7.72-7.72 1.47 1.35L5.41 20z\"/>\n",
              "  </svg>\n",
              "      </button>\n",
              "      \n",
              "  <style>\n",
              "    .colab-df-container {\n",
              "      display:flex;\n",
              "      flex-wrap:wrap;\n",
              "      gap: 12px;\n",
              "    }\n",
              "\n",
              "    .colab-df-convert {\n",
              "      background-color: #E8F0FE;\n",
              "      border: none;\n",
              "      border-radius: 50%;\n",
              "      cursor: pointer;\n",
              "      display: none;\n",
              "      fill: #1967D2;\n",
              "      height: 32px;\n",
              "      padding: 0 0 0 0;\n",
              "      width: 32px;\n",
              "    }\n",
              "\n",
              "    .colab-df-convert:hover {\n",
              "      background-color: #E2EBFA;\n",
              "      box-shadow: 0px 1px 2px rgba(60, 64, 67, 0.3), 0px 1px 3px 1px rgba(60, 64, 67, 0.15);\n",
              "      fill: #174EA6;\n",
              "    }\n",
              "\n",
              "    [theme=dark] .colab-df-convert {\n",
              "      background-color: #3B4455;\n",
              "      fill: #D2E3FC;\n",
              "    }\n",
              "\n",
              "    [theme=dark] .colab-df-convert:hover {\n",
              "      background-color: #434B5C;\n",
              "      box-shadow: 0px 1px 3px 1px rgba(0, 0, 0, 0.15);\n",
              "      filter: drop-shadow(0px 1px 2px rgba(0, 0, 0, 0.3));\n",
              "      fill: #FFFFFF;\n",
              "    }\n",
              "  </style>\n",
              "\n",
              "      <script>\n",
              "        const buttonEl =\n",
              "          document.querySelector('#df-6b6c5470-f5f1-499e-9590-5e5844c24806 button.colab-df-convert');\n",
              "        buttonEl.style.display =\n",
              "          google.colab.kernel.accessAllowed ? 'block' : 'none';\n",
              "\n",
              "        async function convertToInteractive(key) {\n",
              "          const element = document.querySelector('#df-6b6c5470-f5f1-499e-9590-5e5844c24806');\n",
              "          const dataTable =\n",
              "            await google.colab.kernel.invokeFunction('convertToInteractive',\n",
              "                                                     [key], {});\n",
              "          if (!dataTable) return;\n",
              "\n",
              "          const docLinkHtml = 'Like what you see? Visit the ' +\n",
              "            '<a target=\"_blank\" href=https://colab.research.google.com/notebooks/data_table.ipynb>data table notebook</a>'\n",
              "            + ' to learn more about interactive tables.';\n",
              "          element.innerHTML = '';\n",
              "          dataTable['output_type'] = 'display_data';\n",
              "          await google.colab.output.renderOutput(dataTable, element);\n",
              "          const docLink = document.createElement('div');\n",
              "          docLink.innerHTML = docLinkHtml;\n",
              "          element.appendChild(docLink);\n",
              "        }\n",
              "      </script>\n",
              "    </div>\n",
              "  </div>\n",
              "  "
            ],
            "text/plain": [
              "         Month  Zone - A  Zone - B  Zone - C  Zone - D\n",
              "0    Month - 1   1483525   1748451   1523308   2267260\n",
              "1    Month - 2   1238428   1707421   2212113   1994341\n",
              "2    Month - 3   1860771   2091194   1282374   1241600\n",
              "3    Month - 4   1871571   1759617   2290580   2252681\n",
              "4    Month - 5   1244922   1606010   1818334   1326062\n",
              "5    Month - 6   1534390   1573128   1751825   2292044\n",
              "6    Month - 7   1820196   1992031   1786826   1688055\n",
              "7    Month - 8   1625696   1665534   2161754   2363315\n",
              "8    Month - 9   1652644   1873402   1755290   1422059\n",
              "9   Month - 10   1852450   1913059   1754314   1608387\n",
              "10  Month - 11   2004480   1740365   1317869   1970069\n",
              "11  Month - 12   1537539   1875658   1237722   1460165\n",
              "12  Month - 13   1254939   1588473   1348629   1733383\n",
              "13  Month - 14   1821799   1844081   1617376   1872259\n",
              "14  Month - 15   1128185   1804613   1767047   1234311\n",
              "15  Month - 16   1491534   1542053   1882159   1590913\n",
              "16  Month - 17   1182110   1552388   2234469   2180416\n",
              "17  Month - 18   1770324   1699213   1249821   2364132\n",
              "18  Month - 19   1181635   1959268   2009168   1821882\n",
              "19  Month - 20   1305972   1559670   2107949   2151008\n",
              "20  Month - 21   1570152   2013615   1540016   2265814\n",
              "21  Month - 22   1481619   1527574   2255729   2295079\n",
              "22  Month - 23   1887694   1992155   1348387   1459683\n",
              "23  Month - 24   1880820   1752873   2098463   2052591\n",
              "24  Month - 25   1256333   1622671   1521792   1695122\n",
              "25  Month - 26   1422853   1715465   1853636   1520406\n",
              "26  Month - 27   1384426   1983163   1611169   1289160\n",
              "27  Month - 28   1616640   1547991   2128022   2178267\n",
              "28  Month - 29   1310654   1660092   1947119   1854412"
            ]
          },
          "metadata": {},
          "execution_count": 2
        }
      ]
    },
    {
      "cell_type": "code",
      "source": [
        "Data.isna().sum()"
      ],
      "metadata": {
        "colab": {
          "base_uri": "https://localhost:8080/"
        },
        "id": "yqTfVH2B0olx",
        "outputId": "ec0e6090-0abe-4d0b-c526-50c57c4a1991"
      },
      "execution_count": 3,
      "outputs": [
        {
          "output_type": "execute_result",
          "data": {
            "text/plain": [
              "Month       0\n",
              "Zone - A    0\n",
              "Zone - B    0\n",
              "Zone - C    0\n",
              "Zone - D    0\n",
              "dtype: int64"
            ]
          },
          "metadata": {},
          "execution_count": 3
        }
      ]
    },
    {
      "cell_type": "code",
      "source": [
        "Data.hist(figsize=(10,8))\n",
        "plt.show()"
      ],
      "metadata": {
        "colab": {
          "base_uri": "https://localhost:8080/",
          "height": 512
        },
        "id": "OMsUaOy-rUTU",
        "outputId": "e08dce98-b44a-4c8c-bf0c-75b291aeff5c"
      },
      "execution_count": 17,
      "outputs": [
        {
          "output_type": "display_data",
          "data": {
            "image/png": "[encoded data removed]",
            "text/plain": [
              "<Figure size 720x576 with 4 Axes>"
            ]
          },
          "metadata": {
            "needs_background": "light"
          }
        }
      ]
    },
    {
      "cell_type": "code",
      "source": [
        "Data.describe()"
      ],
      "metadata": {
        "colab": {
          "base_uri": "https://localhost:8080/",
          "height": 300
        },
        "id": "hPDxtJtQ0s_D",
        "outputId": "7b112919-4a90-4a46-e1ad-9579ed238018"
      },
      "execution_count": 5,
      "outputs": [
        {
          "output_type": "execute_result",
          "data": {
            "text/html": [
              "\n",
              "  <div id=\"df-965894aa-6da2-46a0-9a39-2ed23085233c\">\n",
              "    <div class=\"colab-df-container\">\n",
              "      <div>\n",
              "<style scoped>\n",
              "    .dataframe tbody tr th:only-of-type {\n",
              "        vertical-align: middle;\n",
              "    }\n",
              "\n",
              "    .dataframe tbody tr th {\n",
              "        vertical-align: top;\n",
              "    }\n",
              "\n",
              "    .dataframe thead th {\n",
              "        text-align: right;\n",
              "    }\n",
              "</style>\n",
              "<table border=\"1\" class=\"dataframe\">\n",
              "  <thead>\n",
              "    <tr style=\"text-align: right;\">\n",
              "      <th></th>\n",
              "      <th>Zone - A</th>\n",
              "      <th>Zone - B</th>\n",
              "      <th>Zone - C</th>\n",
              "      <th>Zone - D</th>\n",
              "    </tr>\n",
              "  </thead>\n",
              "  <tbody>\n",
              "    <tr>\n",
              "      <th>count</th>\n",
              "      <td>2.900000e+01</td>\n",
              "      <td>2.900000e+01</td>\n",
              "      <td>2.900000e+01</td>\n",
              "      <td>2.900000e+01</td>\n",
              "    </tr>\n",
              "    <tr>\n",
              "      <th>mean</th>\n",
              "      <td>1.540493e+06</td>\n",
              "      <td>1.755560e+06</td>\n",
              "      <td>1.772871e+06</td>\n",
              "      <td>1.842927e+06</td>\n",
              "    </tr>\n",
              "    <tr>\n",
              "      <th>std</th>\n",
              "      <td>2.619401e+05</td>\n",
              "      <td>1.683899e+05</td>\n",
              "      <td>3.331937e+05</td>\n",
              "      <td>3.750165e+05</td>\n",
              "    </tr>\n",
              "    <tr>\n",
              "      <th>min</th>\n",
              "      <td>1.128185e+06</td>\n",
              "      <td>1.527574e+06</td>\n",
              "      <td>1.237722e+06</td>\n",
              "      <td>1.234311e+06</td>\n",
              "    </tr>\n",
              "    <tr>\n",
              "      <th>25%</th>\n",
              "      <td>1.305972e+06</td>\n",
              "      <td>1.606010e+06</td>\n",
              "      <td>1.523308e+06</td>\n",
              "      <td>1.520406e+06</td>\n",
              "    </tr>\n",
              "    <tr>\n",
              "      <th>50%</th>\n",
              "      <td>1.534390e+06</td>\n",
              "      <td>1.740365e+06</td>\n",
              "      <td>1.767047e+06</td>\n",
              "      <td>1.854412e+06</td>\n",
              "    </tr>\n",
              "    <tr>\n",
              "      <th>75%</th>\n",
              "      <td>1.820196e+06</td>\n",
              "      <td>1.875658e+06</td>\n",
              "      <td>2.098463e+06</td>\n",
              "      <td>2.180416e+06</td>\n",
              "    </tr>\n",
              "    <tr>\n",
              "      <th>max</th>\n",
              "      <td>2.004480e+06</td>\n",
              "      <td>2.091194e+06</td>\n",
              "      <td>2.290580e+06</td>\n",
              "      <td>2.364132e+06</td>\n",
              "    </tr>\n",
              "  </tbody>\n",
              "</table>\n",
              "</div>\n",
              "      <button class=\"colab-df-convert\" onclick=\"convertToInteractive('df-965894aa-6da2-46a0-9a39-2ed23085233c')\"\n",
              "              title=\"Convert this dataframe to an interactive table.\"\n",
              "              style=\"display:none;\">\n",
              "        \n",
              "  <svg xmlns=\"http://www.w3.org/2000/svg\" height=\"24px\"viewBox=\"0 0 24 24\"\n",
              "       width=\"24px\">\n",
              "    <path d=\"M0 0h24v24H0V0z\" fill=\"none\"/>\n",
              "    <path d=\"M18.56 5.44l.94 2.06.94-2.06 2.06-.94-2.06-.94-.94-2.06-.94 2.06-2.06.94zm-11 1L8.5 8.5l.94-2.06 2.06-.94-2.06-.94L8.5 2.5l-.94 2.06-2.06.94zm10 10l.94 2.06.94-2.06 2.06-.94-2.06-.94-.94-2.06-.94 2.06-2.06.94z\"/><path d=\"M17.41 7.96l-1.37-1.37c-.4-.4-.92-.59-1.43-.59-.52 0-1.04.2-1.43.59L10.3 9.45l-7.72 7.72c-.78.78-.78 2.05 0 2.83L4 21.41c.39.39.9.59 1.41.59.51 0 1.02-.2 1.41-.59l7.78-7.78 2.81-2.81c.8-.78.8-2.07 0-2.86zM5.41 20L4 18.59l7.72-7.72 1.47 1.35L5.41 20z\"/>\n",
              "  </svg>\n",
              "      </button>\n",
              "      \n",
              "  <style>\n",
              "    .colab-df-container {\n",
              "      display:flex;\n",
              "      flex-wrap:wrap;\n",
              "      gap: 12px;\n",
              "    }\n",
              "\n",
              "    .colab-df-convert {\n",
              "      background-color: #E8F0FE;\n",
              "      border: none;\n",
              "      border-radius: 50%;\n",
              "      cursor: pointer;\n",
              "      display: none;\n",
              "      fill: #1967D2;\n",
              "      height: 32px;\n",
              "      padding: 0 0 0 0;\n",
              "      width: 32px;\n",
              "    }\n",
              "\n",
              "    .colab-df-convert:hover {\n",
              "      background-color: #E2EBFA;\n",
              "      box-shadow: 0px 1px 2px rgba(60, 64, 67, 0.3), 0px 1px 3px 1px rgba(60, 64, 67, 0.15);\n",
              "      fill: #174EA6;\n",
              "    }\n",
              "\n",
              "    [theme=dark] .colab-df-convert {\n",
              "      background-color: #3B4455;\n",
              "      fill: #D2E3FC;\n",
              "    }\n",
              "\n",
              "    [theme=dark] .colab-df-convert:hover {\n",
              "      background-color: #434B5C;\n",
              "      box-shadow: 0px 1px 3px 1px rgba(0, 0, 0, 0.15);\n",
              "      filter: drop-shadow(0px 1px 2px rgba(0, 0, 0, 0.3));\n",
              "      fill: #FFFFFF;\n",
              "    }\n",
              "  </style>\n",
              "\n",
              "      <script>\n",
              "        const buttonEl =\n",
              "          document.querySelector('#df-965894aa-6da2-46a0-9a39-2ed23085233c button.colab-df-convert');\n",
              "        buttonEl.style.display =\n",
              "          google.colab.kernel.accessAllowed ? 'block' : 'none';\n",
              "\n",
              "        async function convertToInteractive(key) {\n",
              "          const element = document.querySelector('#df-965894aa-6da2-46a0-9a39-2ed23085233c');\n",
              "          const dataTable =\n",
              "            await google.colab.kernel.invokeFunction('convertToInteractive',\n",
              "                                                     [key], {});\n",
              "          if (!dataTable) return;\n",
              "\n",
              "          const docLinkHtml = 'Like what you see? Visit the ' +\n",
              "            '<a target=\"_blank\" href=https://colab.research.google.com/notebooks/data_table.ipynb>data table notebook</a>'\n",
              "            + ' to learn more about interactive tables.';\n",
              "          element.innerHTML = '';\n",
              "          dataTable['output_type'] = 'display_data';\n",
              "          await google.colab.output.renderOutput(dataTable, element);\n",
              "          const docLink = document.createElement('div');\n",
              "          docLink.innerHTML = docLinkHtml;\n",
              "          element.appendChild(docLink);\n",
              "        }\n",
              "      </script>\n",
              "    </div>\n",
              "  </div>\n",
              "  "
            ],
            "text/plain": [
              "           Zone - A      Zone - B      Zone - C      Zone - D\n",
              "count  2.900000e+01  2.900000e+01  2.900000e+01  2.900000e+01\n",
              "mean   1.540493e+06  1.755560e+06  1.772871e+06  1.842927e+06\n",
              "std    2.619401e+05  1.683899e+05  3.331937e+05  3.750165e+05\n",
              "min    1.128185e+06  1.527574e+06  1.237722e+06  1.234311e+06\n",
              "25%    1.305972e+06  1.606010e+06  1.523308e+06  1.520406e+06\n",
              "50%    1.534390e+06  1.740365e+06  1.767047e+06  1.854412e+06\n",
              "75%    1.820196e+06  1.875658e+06  2.098463e+06  2.180416e+06\n",
              "max    2.004480e+06  2.091194e+06  2.290580e+06  2.364132e+06"
            ]
          },
          "metadata": {},
          "execution_count": 5
        }
      ]
    },
    {
      "cell_type": "markdown",
      "source": [
        "# The mean sales generated by each zone"
      ],
      "metadata": {
        "id": "kiKMtYmRjAxo"
      }
    },
    {
      "cell_type": "code",
      "source": [
        "Data.mean()"
      ],
      "metadata": {
        "colab": {
          "base_uri": "https://localhost:8080/"
        },
        "id": "h_NMkO2911ap",
        "outputId": "7d75a102-29fa-494a-cf07-a312b68efd6e"
      },
      "execution_count": 6,
      "outputs": [
        {
          "output_type": "execute_result",
          "data": {
            "text/plain": [
              "Zone - A    1.540493e+06\n",
              "Zone - B    1.755560e+06\n",
              "Zone - C    1.772871e+06\n",
              "Zone - D    1.842927e+06\n",
              "dtype: float64"
            ]
          },
          "metadata": {},
          "execution_count": 6
        }
      ]
    },
    {
      "cell_type": "markdown",
      "source": [
        "# Total sales generated by all the zones for each month."
      ],
      "metadata": {
        "id": "okBTwxoZjNnf"
      }
    },
    {
      "cell_type": "code",
      "source": [
        "Total=Data.sum(axis=1)\n",
        "Total"
      ],
      "metadata": {
        "colab": {
          "base_uri": "https://localhost:8080/"
        },
        "id": "gSw2nd2V4L0m",
        "outputId": "4c03fcb4-7e1c-4885-cdce-7be805c5324b"
      },
      "execution_count": 11,
      "outputs": [
        {
          "output_type": "execute_result",
          "data": {
            "text/plain": [
              "0     7022544\n",
              "1     7152303\n",
              "2     6475939\n",
              "3     8174449\n",
              "4     5995328\n",
              "5     7151387\n",
              "6     7287108\n",
              "7     7816299\n",
              "8     6703395\n",
              "9     7128210\n",
              "10    7032783\n",
              "11    6111084\n",
              "12    5925424\n",
              "13    7155515\n",
              "14    5934156\n",
              "15    6506659\n",
              "16    7149383\n",
              "17    7083490\n",
              "18    6971953\n",
              "19    7124599\n",
              "20    7389597\n",
              "21    7560001\n",
              "22    6687919\n",
              "23    7784747\n",
              "24    6095918\n",
              "25    6512360\n",
              "26    6267918\n",
              "27    7470920\n",
              "28    6772277\n",
              "dtype: int64"
            ]
          },
          "metadata": {},
          "execution_count": 11
        }
      ]
    },
    {
      "cell_type": "markdown",
      "source": [
        "# Check whether all the zones generate the same amount of sales."
      ],
      "metadata": {
        "id": "Cr-Ih_OsoxVY"
      }
    },
    {
      "cell_type": "code",
      "source": [
        "#H0:all the zones generate the same amount of sales.\n",
        "#H1:all the zones did not generate the same amount of sales.\n",
        "import scipy.stats as stats\n",
        "fvalue, pvalue = stats.f_oneway(Data['Zone - A'], Data['Zone - B'], Data['Zone - C'], Data['Zone - D'])\n",
        "print(fvalue, pvalue)"
      ],
      "metadata": {
        "colab": {
          "base_uri": "https://localhost:8080/"
        },
        "id": "itU1cKO_kG9K",
        "outputId": "7582169a-3611-4118-c41f-e2b295602777"
      },
      "execution_count": 15,
      "outputs": [
        {
          "output_type": "stream",
          "name": "stdout",
          "text": [
            "5.672056106843581 0.0011827601694503335\n"
          ]
        }
      ]
    },
    {
      "cell_type": "code",
      "source": [
        "if pvalue<0.05:\n",
        "  print('Reject Null Hypothesis')\n",
        "else:\n",
        "  print(\"Reject Alternate Hypothesis\")"
      ],
      "metadata": {
        "colab": {
          "base_uri": "https://localhost:8080/"
        },
        "id": "UUWgCRo9nyaq",
        "outputId": "91c58a24-0f93-4907-f04c-89e88a2b3d9a"
      },
      "execution_count": 14,
      "outputs": [
        {
          "output_type": "stream",
          "name": "stdout",
          "text": [
            "Reject Null Hypothesis\n"
          ]
        }
      ]
    },
    {
      "cell_type": "markdown",
      "source": [
        "That states all the zones did not generate the same amount of sales. So company can check on Maximum sales by each zone and act accordingly"
      ],
      "metadata": {
        "id": "S3LWJxNSokAs"
      }
    },
    {
      "cell_type": "code",
      "source": [
        "Data.sum(axis=0)"
      ],
      "metadata": {
        "colab": {
          "base_uri": "https://localhost:8080/"
        },
        "id": "ul79z7Z-r-fL",
        "outputId": "5bc9cbf8-030b-4650-8a65-018f17c29451"
      },
      "execution_count": 18,
      "outputs": [
        {
          "output_type": "execute_result",
          "data": {
            "text/plain": [
              "Month       Month - 1Month - 2Month - 3Month - 4Month - 5M...\n",
              "Zone - A                                             44674301\n",
              "Zone - B                                             50911228\n",
              "Zone - C                                             51413260\n",
              "Zone - D                                             53444876\n",
              "dtype: object"
            ]
          },
          "metadata": {},
          "execution_count": 18
        }
      ]
    },
    {
      "cell_type": "markdown",
      "source": [
        "Maximum sale in Zone D and minimum in Zone A"
      ],
      "metadata": {
        "id": "NuGK3zQ5uJUP"
      }
    },
    {
      "cell_type": "code",
      "source": [
        "print(\"Total Sales:\",Total.max())"
      ],
      "metadata": {
        "colab": {
          "base_uri": "https://localhost:8080/"
        },
        "id": "aI1btqnHt3mq",
        "outputId": "70affc19-3000-448e-d4f6-3abd170a3f3e"
      },
      "execution_count": 21,
      "outputs": [
        {
          "output_type": "stream",
          "name": "stdout",
          "text": [
            "Total Sales: 8174449\n"
          ]
        }
      ]
    },
    {
      "cell_type": "markdown",
      "source": [
        "Highest in Month 4"
      ],
      "metadata": {
        "id": "jATCPjZuuwHP"
      }
    }
  ]
}