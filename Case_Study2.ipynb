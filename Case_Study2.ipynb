{
  "nbformat": 4,
  "nbformat_minor": 5,
  "metadata": {
    "kernelspec": {
      "display_name": "Python 3",
      "language": "python",
      "name": "python3"
    },
    "language_info": {
      "codemirror_mode": {
        "name": "ipython",
        "version": 3
      },
      "file_extension": ".py",
      "mimetype": "text/x-python",
      "name": "python",
      "nbconvert_exporter": "python",
      "pygments_lexer": "ipython3",
      "version": "3.8.8"
    },
    "colab": {
      "name": "Case Study2.ipynb",
      "provenance": [],
      "collapsed_sections": [],
      "include_colab_link": true
    }
  },
  "cells": [
    {
      "cell_type": "markdown",
      "metadata": {
        "id": "view-in-github",
        "colab_type": "text"
      },
      "source": [
        "<a href=\"https://colab.research.google.com/github/Jomonjoseph25/DSA_B5_Assignments/blob/main/Case_Study2.ipynb\" target=\"_parent\"><img src=\"https://colab.research.google.com/assets/colab-badge.svg\" alt=\"Open In Colab\"/></a>"
      ]
    },
    {
      "cell_type": "code",
      "metadata": {
        "scrolled": true,
        "colab": {
          "base_uri": "https://localhost:8080/",
          "height": 423
        },
        "id": "61ade9a5",
        "outputId": "5155d439-1ba9-4707-bce1-7ad0e3e55982"
      },
      "source": [
        "import numpy as np\n",
        "import pandas as pd\n",
        "import matplotlib.pyplot as plt\n",
        "student=pd.read_csv('/content/drive/MyDrive/Case Study 2/StudentsPerformance.csv')\n",
        "student"
      ],
      "id": "61ade9a5",
      "execution_count": 4,
      "outputs": [
        {
          "output_type": "execute_result",
          "data": {
            "text/html": [
              "<div>\n",
              "<style scoped>\n",
              "    .dataframe tbody tr th:only-of-type {\n",
              "        vertical-align: middle;\n",
              "    }\n",
              "\n",
              "    .dataframe tbody tr th {\n",
              "        vertical-align: top;\n",
              "    }\n",
              "\n",
              "    .dataframe thead th {\n",
              "        text-align: right;\n",
              "    }\n",
              "</style>\n",
              "<table border=\"1\" class=\"dataframe\">\n",
              "  <thead>\n",
              "    <tr style=\"text-align: right;\">\n",
              "      <th></th>\n",
              "      <th>gender</th>\n",
              "      <th>race/ethnicity</th>\n",
              "      <th>parental level of education</th>\n",
              "      <th>lunch</th>\n",
              "      <th>test preparation course</th>\n",
              "      <th>math score</th>\n",
              "      <th>reading score</th>\n",
              "      <th>writing score</th>\n",
              "    </tr>\n",
              "  </thead>\n",
              "  <tbody>\n",
              "    <tr>\n",
              "      <th>0</th>\n",
              "      <td>female</td>\n",
              "      <td>group C</td>\n",
              "      <td>some high school</td>\n",
              "      <td>free/reduced</td>\n",
              "      <td>none</td>\n",
              "      <td>0</td>\n",
              "      <td>17</td>\n",
              "      <td>10</td>\n",
              "    </tr>\n",
              "    <tr>\n",
              "      <th>1</th>\n",
              "      <td>female</td>\n",
              "      <td>group B</td>\n",
              "      <td>high school</td>\n",
              "      <td>free/reduced</td>\n",
              "      <td>none</td>\n",
              "      <td>8</td>\n",
              "      <td>24</td>\n",
              "      <td>23</td>\n",
              "    </tr>\n",
              "    <tr>\n",
              "      <th>2</th>\n",
              "      <td>female</td>\n",
              "      <td>group B</td>\n",
              "      <td>some high school</td>\n",
              "      <td>free/reduced</td>\n",
              "      <td>none</td>\n",
              "      <td>18</td>\n",
              "      <td>32</td>\n",
              "      <td>28</td>\n",
              "    </tr>\n",
              "    <tr>\n",
              "      <th>3</th>\n",
              "      <td>female</td>\n",
              "      <td>group B</td>\n",
              "      <td>some college</td>\n",
              "      <td>standard</td>\n",
              "      <td>none</td>\n",
              "      <td>11</td>\n",
              "      <td>38</td>\n",
              "      <td>32</td>\n",
              "    </tr>\n",
              "    <tr>\n",
              "      <th>4</th>\n",
              "      <td>female</td>\n",
              "      <td>group C</td>\n",
              "      <td>some college</td>\n",
              "      <td>free/reduced</td>\n",
              "      <td>none</td>\n",
              "      <td>22</td>\n",
              "      <td>39</td>\n",
              "      <td>33</td>\n",
              "    </tr>\n",
              "    <tr>\n",
              "      <th>...</th>\n",
              "      <td>...</td>\n",
              "      <td>...</td>\n",
              "      <td>...</td>\n",
              "      <td>...</td>\n",
              "      <td>...</td>\n",
              "      <td>...</td>\n",
              "      <td>...</td>\n",
              "      <td>...</td>\n",
              "    </tr>\n",
              "    <tr>\n",
              "      <th>995</th>\n",
              "      <td>male</td>\n",
              "      <td>group E</td>\n",
              "      <td>some college</td>\n",
              "      <td>standard</td>\n",
              "      <td>completed</td>\n",
              "      <td>99</td>\n",
              "      <td>87</td>\n",
              "      <td>81</td>\n",
              "    </tr>\n",
              "    <tr>\n",
              "      <th>996</th>\n",
              "      <td>male</td>\n",
              "      <td>group A</td>\n",
              "      <td>some college</td>\n",
              "      <td>standard</td>\n",
              "      <td>completed</td>\n",
              "      <td>100</td>\n",
              "      <td>96</td>\n",
              "      <td>86</td>\n",
              "    </tr>\n",
              "    <tr>\n",
              "      <th>997</th>\n",
              "      <td>male</td>\n",
              "      <td>group D</td>\n",
              "      <td>some college</td>\n",
              "      <td>standard</td>\n",
              "      <td>completed</td>\n",
              "      <td>100</td>\n",
              "      <td>97</td>\n",
              "      <td>99</td>\n",
              "    </tr>\n",
              "    <tr>\n",
              "      <th>998</th>\n",
              "      <td>male</td>\n",
              "      <td>group E</td>\n",
              "      <td>associate's degree</td>\n",
              "      <td>free/reduced</td>\n",
              "      <td>completed</td>\n",
              "      <td>100</td>\n",
              "      <td>100</td>\n",
              "      <td>93</td>\n",
              "    </tr>\n",
              "    <tr>\n",
              "      <th>999</th>\n",
              "      <td>male</td>\n",
              "      <td>group E</td>\n",
              "      <td>bachelor's degree</td>\n",
              "      <td>standard</td>\n",
              "      <td>completed</td>\n",
              "      <td>100</td>\n",
              "      <td>100</td>\n",
              "      <td>100</td>\n",
              "    </tr>\n",
              "  </tbody>\n",
              "</table>\n",
              "<p>1000 rows × 8 columns</p>\n",
              "</div>"
            ],
            "text/plain": [
              "     gender race/ethnicity  ... reading score writing score\n",
              "0    female        group C  ...            17            10\n",
              "1    female        group B  ...            24            23\n",
              "2    female        group B  ...            32            28\n",
              "3    female        group B  ...            38            32\n",
              "4    female        group C  ...            39            33\n",
              "..      ...            ...  ...           ...           ...\n",
              "995    male        group E  ...            87            81\n",
              "996    male        group A  ...            96            86\n",
              "997    male        group D  ...            97            99\n",
              "998    male        group E  ...           100            93\n",
              "999    male        group E  ...           100           100\n",
              "\n",
              "[1000 rows x 8 columns]"
            ]
          },
          "metadata": {},
          "execution_count": 4
        }
      ]
    },
    {
      "cell_type": "markdown",
      "metadata": {
        "id": "yWptskbz01Wo"
      },
      "source": [
        "**Number of Males and Females participated**"
      ],
      "id": "yWptskbz01Wo"
    },
    {
      "cell_type": "code",
      "metadata": {
        "id": "3a340d64",
        "outputId": "7466b235-1e88-4cdc-d9c5-21a43841de46"
      },
      "source": [
        "Gender_count=student.groupby(['gender']).size()\n",
        "Gender_count"
      ],
      "id": "3a340d64",
      "execution_count": null,
      "outputs": [
        {
          "data": {
            "text/plain": [
              "gender\n",
              "female    518\n",
              "male      482\n",
              "dtype: int64"
            ]
          },
          "execution_count": 4,
          "metadata": {},
          "output_type": "execute_result"
        }
      ]
    },
    {
      "cell_type": "code",
      "metadata": {
        "id": "c63cdeb7"
      },
      "source": [
        ""
      ],
      "id": "c63cdeb7",
      "execution_count": null,
      "outputs": []
    },
    {
      "cell_type": "markdown",
      "metadata": {
        "id": "hQctup1u1NEX"
      },
      "source": [
        "**parental level of education**"
      ],
      "id": "hQctup1u1NEX"
    },
    {
      "cell_type": "code",
      "metadata": {
        "id": "96442ff5",
        "outputId": "a32736b2-ee66-42b5-9955-94cb38d38162"
      },
      "source": [
        "Parental_Level=student.groupby(['parental level of education']).size()\n",
        "Parental_Level"
      ],
      "id": "96442ff5",
      "execution_count": null,
      "outputs": [
        {
          "data": {
            "text/plain": [
              "parental level of education\n",
              "associate's degree    222\n",
              "bachelor's degree     118\n",
              "high school           196\n",
              "master's degree        59\n",
              "some college          226\n",
              "some high school      179\n",
              "dtype: int64"
            ]
          },
          "execution_count": 4,
          "metadata": {},
          "output_type": "execute_result"
        }
      ]
    },
    {
      "cell_type": "markdown",
      "metadata": {
        "id": "1uL82dIe1tZu"
      },
      "source": [
        "625 parents have college level education and remaining high school level"
      ],
      "id": "1uL82dIe1tZu"
    },
    {
      "cell_type": "markdown",
      "metadata": {
        "id": "Y0BFQTTu2qsc"
      },
      "source": [
        "**Most Average Score based on gender**"
      ],
      "id": "Y0BFQTTu2qsc"
    },
    {
      "cell_type": "code",
      "metadata": {
        "id": "975e2602",
        "colab": {
          "base_uri": "https://localhost:8080/"
        },
        "outputId": "ffaa0226-1019-405b-f85b-18cb07b25628"
      },
      "source": [
        "math_avg=student.groupby(['gender'])['math score'].mean()\n",
        "math_avg"
      ],
      "id": "975e2602",
      "execution_count": 12,
      "outputs": [
        {
          "output_type": "execute_result",
          "data": {
            "text/plain": [
              "gender\n",
              "female    63.376448\n",
              "male      68.821577\n",
              "Name: math score, dtype: float64"
            ]
          },
          "metadata": {},
          "execution_count": 12
        }
      ]
    },
    {
      "cell_type": "code",
      "metadata": {
        "id": "8abb807a",
        "outputId": "c6c56a73-8a88-4700-9433-256f97f24e52"
      },
      "source": [
        "read_avg=student.groupby(['gender'])['reading score'].mean()\n",
        "read_avg"
      ],
      "id": "8abb807a",
      "execution_count": null,
      "outputs": [
        {
          "data": {
            "text/plain": [
              "gender\n",
              "female    72.590734\n",
              "male      65.545643\n",
              "Name: reading score, dtype: float64"
            ]
          },
          "execution_count": 15,
          "metadata": {},
          "output_type": "execute_result"
        }
      ]
    },
    {
      "cell_type": "code",
      "metadata": {
        "id": "47302e28",
        "outputId": "a0fa1545-6ae8-4018-9f2f-609d2aaf7ce6"
      },
      "source": [
        "writing_avg=student.groupby(['gender'])['writing score'].mean()\n",
        "writing_avg"
      ],
      "id": "47302e28",
      "execution_count": null,
      "outputs": [
        {
          "data": {
            "text/plain": [
              "gender\n",
              "female    72.467181\n",
              "male      63.446058\n",
              "Name: writing score, dtype: float64"
            ]
          },
          "execution_count": 16,
          "metadata": {},
          "output_type": "execute_result"
        }
      ]
    },
    {
      "cell_type": "markdown",
      "metadata": {
        "id": "vuFZXi943HbT"
      },
      "source": [
        "**Most Average Score based on Test Preparation Course**"
      ],
      "id": "vuFZXi943HbT"
    },
    {
      "cell_type": "code",
      "metadata": {
        "id": "8d0b94cb",
        "outputId": "a9bb04ee-e806-44fe-9d95-516f1b116dac"
      },
      "source": [
        "math_avgTPC=student.groupby(['test preparation course'])['math score'].mean()\n",
        "math_avgTPC"
      ],
      "id": "8d0b94cb",
      "execution_count": null,
      "outputs": [
        {
          "data": {
            "text/plain": [
              "test preparation course\n",
              "completed    69.96648\n",
              "none         63.78972\n",
              "Name: math score, dtype: float64"
            ]
          },
          "execution_count": 17,
          "metadata": {},
          "output_type": "execute_result"
        }
      ]
    },
    {
      "cell_type": "code",
      "metadata": {
        "colab": {
          "base_uri": "https://localhost:8080/"
        },
        "id": "uaf_vZUc3Xbd",
        "outputId": "67306158-9ebe-4963-b11a-79eb301a3440"
      },
      "source": [
        "read_avgTPC=student.groupby(['test preparation course'])['reading score'].mean()\n",
        "read_avgTPC"
      ],
      "id": "uaf_vZUc3Xbd",
      "execution_count": null,
      "outputs": [
        {
          "output_type": "execute_result",
          "data": {
            "text/plain": [
              "test preparation course\n",
              "completed    74.175978\n",
              "none         66.417445\n",
              "Name: reading score, dtype: float64"
            ]
          },
          "metadata": {},
          "execution_count": 4
        }
      ]
    },
    {
      "cell_type": "code",
      "metadata": {
        "colab": {
          "base_uri": "https://localhost:8080/"
        },
        "id": "HIFkQ4DR3wAa",
        "outputId": "898b86c5-6288-4fde-a8b8-ad11a48e23d2"
      },
      "source": [
        "writing_avgTPC=student.groupby(['test preparation course'])['writing score'].mean()\n",
        "writing_avgTPC"
      ],
      "id": "HIFkQ4DR3wAa",
      "execution_count": null,
      "outputs": [
        {
          "output_type": "execute_result",
          "data": {
            "text/plain": [
              "test preparation course\n",
              "completed    74.684358\n",
              "none         64.457944\n",
              "Name: writing score, dtype: float64"
            ]
          },
          "metadata": {},
          "execution_count": 5
        }
      ]
    },
    {
      "cell_type": "markdown",
      "metadata": {
        "id": "ZoyWYIYH4MdB"
      },
      "source": [
        "**Scoring Variation by Gender**"
      ],
      "id": "ZoyWYIYH4MdB"
    },
    {
      "cell_type": "markdown",
      "metadata": {
        "id": "vb3M-Kw_4awY"
      },
      "source": [
        "Males scored high for maths whereas female score high for both reading and writing"
      ],
      "id": "vb3M-Kw_4awY"
    },
    {
      "cell_type": "code",
      "metadata": {
        "colab": {
          "base_uri": "https://localhost:8080/",
          "height": 264
        },
        "id": "De4ANWQN70_j",
        "outputId": "a1155d39-c22a-4d7a-8a3c-05ba46651f04"
      },
      "source": [
        "plt.plot(student['gender'],student['math score'],label='math score')\n",
        "plt.plot(student['gender'],student['reading score'],label='reading score')\n",
        "plt.plot(student['gender'],student['writing score'],label='writing score')\n",
        "plt.legend()\n",
        "plt.show()\n"
      ],
      "id": "De4ANWQN70_j",
      "execution_count": 23,
      "outputs": [
        {
          "output_type": "display_data",
          "data": {
            "image/png": "[encoded data removed]",
            "text/plain": [
              "<Figure size 432x288 with 1 Axes>"
            ]
          },
          "metadata": {
            "needs_background": "light"
          }
        }
      ]
    },
    {
      "cell_type": "markdown",
      "metadata": {
        "id": "EzzcphlU4wo_"
      },
      "source": [
        "**Scoring Variation by Test Preparation Course**"
      ],
      "id": "EzzcphlU4wo_"
    },
    {
      "cell_type": "markdown",
      "metadata": {
        "id": "LN4ccWJ441F_"
      },
      "source": [
        "Those who completed the test preparation course scored more in all tests"
      ],
      "id": "LN4ccWJ441F_"
    },
    {
      "cell_type": "markdown",
      "metadata": {
        "id": "gVpL2Wvv4vaR"
      },
      "source": [
        "**Bonus Points**"
      ],
      "id": "gVpL2Wvv4vaR"
    },
    {
      "cell_type": "code",
      "metadata": {
        "id": "d78827b0",
        "outputId": "c4f943af-60ea-404a-f715-b79b5eda5491"
      },
      "source": [
        "percentage=student['gender'].count() * 0.25\n",
        "c=int(percentage)\n",
        "print(\"BONUS POINTS FOR BELOW STUDENTS\")\n",
        "Bonus=student.nlargest(c,'math score','first')\n",
        "Bonus"
      ],
      "id": "d78827b0",
      "execution_count": null,
      "outputs": [
        {
          "name": "stdout",
          "output_type": "stream",
          "text": [
            "BONUS POINTS FOR BELOW STUDENTS\n"
          ]
        },
        {
          "data": {
            "text/html": [
              "<div>\n",
              "<style scoped>\n",
              "    .dataframe tbody tr th:only-of-type {\n",
              "        vertical-align: middle;\n",
              "    }\n",
              "\n",
              "    .dataframe tbody tr th {\n",
              "        vertical-align: top;\n",
              "    }\n",
              "\n",
              "    .dataframe thead th {\n",
              "        text-align: right;\n",
              "    }\n",
              "</style>\n",
              "<table border=\"1\" class=\"dataframe\">\n",
              "  <thead>\n",
              "    <tr style=\"text-align: right;\">\n",
              "      <th></th>\n",
              "      <th>gender</th>\n",
              "      <th>race/ethnicity</th>\n",
              "      <th>parental level of education</th>\n",
              "      <th>lunch</th>\n",
              "      <th>test preparation course</th>\n",
              "      <th>math score</th>\n",
              "      <th>reading score</th>\n",
              "      <th>writing score</th>\n",
              "    </tr>\n",
              "  </thead>\n",
              "  <tbody>\n",
              "    <tr>\n",
              "      <th>515</th>\n",
              "      <td>female</td>\n",
              "      <td>group E</td>\n",
              "      <td>some college</td>\n",
              "      <td>standard</td>\n",
              "      <td>none</td>\n",
              "      <td>100</td>\n",
              "      <td>92</td>\n",
              "      <td>97</td>\n",
              "    </tr>\n",
              "    <tr>\n",
              "      <th>516</th>\n",
              "      <td>female</td>\n",
              "      <td>group E</td>\n",
              "      <td>bachelor's degree</td>\n",
              "      <td>standard</td>\n",
              "      <td>none</td>\n",
              "      <td>100</td>\n",
              "      <td>100</td>\n",
              "      <td>100</td>\n",
              "    </tr>\n",
              "    <tr>\n",
              "      <th>517</th>\n",
              "      <td>female</td>\n",
              "      <td>group E</td>\n",
              "      <td>associate's degree</td>\n",
              "      <td>standard</td>\n",
              "      <td>none</td>\n",
              "      <td>100</td>\n",
              "      <td>100</td>\n",
              "      <td>100</td>\n",
              "    </tr>\n",
              "    <tr>\n",
              "      <th>996</th>\n",
              "      <td>male</td>\n",
              "      <td>group A</td>\n",
              "      <td>some college</td>\n",
              "      <td>standard</td>\n",
              "      <td>completed</td>\n",
              "      <td>100</td>\n",
              "      <td>96</td>\n",
              "      <td>86</td>\n",
              "    </tr>\n",
              "    <tr>\n",
              "      <th>997</th>\n",
              "      <td>male</td>\n",
              "      <td>group D</td>\n",
              "      <td>some college</td>\n",
              "      <td>standard</td>\n",
              "      <td>completed</td>\n",
              "      <td>100</td>\n",
              "      <td>97</td>\n",
              "      <td>99</td>\n",
              "    </tr>\n",
              "    <tr>\n",
              "      <th>...</th>\n",
              "      <td>...</td>\n",
              "      <td>...</td>\n",
              "      <td>...</td>\n",
              "      <td>...</td>\n",
              "      <td>...</td>\n",
              "      <td>...</td>\n",
              "      <td>...</td>\n",
              "      <td>...</td>\n",
              "    </tr>\n",
              "    <tr>\n",
              "      <th>428</th>\n",
              "      <td>female</td>\n",
              "      <td>group D</td>\n",
              "      <td>some college</td>\n",
              "      <td>free/reduced</td>\n",
              "      <td>none</td>\n",
              "      <td>77</td>\n",
              "      <td>86</td>\n",
              "      <td>86</td>\n",
              "    </tr>\n",
              "    <tr>\n",
              "      <th>429</th>\n",
              "      <td>female</td>\n",
              "      <td>group E</td>\n",
              "      <td>some high school</td>\n",
              "      <td>standard</td>\n",
              "      <td>none</td>\n",
              "      <td>77</td>\n",
              "      <td>79</td>\n",
              "      <td>80</td>\n",
              "    </tr>\n",
              "    <tr>\n",
              "      <th>849</th>\n",
              "      <td>male</td>\n",
              "      <td>group A</td>\n",
              "      <td>bachelor's degree</td>\n",
              "      <td>standard</td>\n",
              "      <td>none</td>\n",
              "      <td>77</td>\n",
              "      <td>67</td>\n",
              "      <td>68</td>\n",
              "    </tr>\n",
              "    <tr>\n",
              "      <th>850</th>\n",
              "      <td>male</td>\n",
              "      <td>group C</td>\n",
              "      <td>associate's degree</td>\n",
              "      <td>free/reduced</td>\n",
              "      <td>none</td>\n",
              "      <td>77</td>\n",
              "      <td>67</td>\n",
              "      <td>64</td>\n",
              "    </tr>\n",
              "    <tr>\n",
              "      <th>851</th>\n",
              "      <td>male</td>\n",
              "      <td>group D</td>\n",
              "      <td>some college</td>\n",
              "      <td>standard</td>\n",
              "      <td>completed</td>\n",
              "      <td>77</td>\n",
              "      <td>62</td>\n",
              "      <td>62</td>\n",
              "    </tr>\n",
              "  </tbody>\n",
              "</table>\n",
              "<p>250 rows × 8 columns</p>\n",
              "</div>"
            ],
            "text/plain": [
              "     gender race/ethnicity parental level of education         lunch  \\\n",
              "515  female        group E                some college      standard   \n",
              "516  female        group E           bachelor's degree      standard   \n",
              "517  female        group E          associate's degree      standard   \n",
              "996    male        group A                some college      standard   \n",
              "997    male        group D                some college      standard   \n",
              "..      ...            ...                         ...           ...   \n",
              "428  female        group D                some college  free/reduced   \n",
              "429  female        group E            some high school      standard   \n",
              "849    male        group A           bachelor's degree      standard   \n",
              "850    male        group C          associate's degree  free/reduced   \n",
              "851    male        group D                some college      standard   \n",
              "\n",
              "    test preparation course  math score  reading score  writing score  \n",
              "515                    none         100             92             97  \n",
              "516                    none         100            100            100  \n",
              "517                    none         100            100            100  \n",
              "996               completed         100             96             86  \n",
              "997               completed         100             97             99  \n",
              "..                      ...         ...            ...            ...  \n",
              "428                    none          77             86             86  \n",
              "429                    none          77             79             80  \n",
              "849                    none          77             67             68  \n",
              "850                    none          77             67             64  \n",
              "851               completed          77             62             62  \n",
              "\n",
              "[250 rows x 8 columns]"
            ]
          },
          "execution_count": 6,
          "metadata": {},
          "output_type": "execute_result"
        }
      ]
    }
  ]
}