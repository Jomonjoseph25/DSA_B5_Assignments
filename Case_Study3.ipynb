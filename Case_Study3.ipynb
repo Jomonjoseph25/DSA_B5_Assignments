{
  "nbformat": 4,
  "nbformat_minor": 0,
  "metadata": {
    "colab": {
      "name": "Case Study3.ipynb",
      "provenance": [],
      "collapsed_sections": [],
      "mount_file_id": "18_FBrEp9XmEOQbVoaG__htI3kvD8b4_0",
      "authorship_tag": "ABX9TyO0iRuGa6Z0nCauVwnbRhW/",
      "include_colab_link": true
    },
    "kernelspec": {
      "name": "python3",
      "display_name": "Python 3"
    },
    "language_info": {
      "name": "python"
    }
  },
  "cells": [
    {
      "cell_type": "markdown",
      "metadata": {
        "id": "view-in-github",
        "colab_type": "text"
      },
      "source": [
        "<a href=\"https://colab.research.google.com/github/Jomonjoseph25/DSA_B5_Assignments/blob/main/Case_Study3.ipynb\" target=\"_parent\"><img src=\"https://colab.research.google.com/assets/colab-badge.svg\" alt=\"Open In Colab\"/></a>"
      ]
    },
    {
      "cell_type": "code",
      "metadata": {
        "id": "DJ9mKVgZxhE2"
      },
      "source": [
        "import pandas as pd\n",
        "import numpy as np\n",
        "import matplotlib.pyplot as plt\n",
        "import seaborn as sns\n"
      ],
      "execution_count": 4,
      "outputs": []
    },
    {
      "cell_type": "markdown",
      "source": [
        "**Reading DataSet**"
      ],
      "metadata": {
        "id": "kjBbzxUthf0F"
      }
    },
    {
      "cell_type": "code",
      "metadata": {
        "colab": {
          "base_uri": "https://localhost:8080/",
          "height": 423
        },
        "id": "yUt-1OuuyBhH",
        "outputId": "487013b9-6531-4ae0-a31a-846863885c69"
      },
      "source": [
        "Data=pd.read_csv(\"/content/drive/MyDrive/week7/Case Study 3/Add_sales_data_2018.csv\")\n",
        "Data"
      ],
      "execution_count": 5,
      "outputs": [
        {
          "output_type": "execute_result",
          "data": {
            "text/html": [
              "<div>\n",
              "<style scoped>\n",
              "    .dataframe tbody tr th:only-of-type {\n",
              "        vertical-align: middle;\n",
              "    }\n",
              "\n",
              "    .dataframe tbody tr th {\n",
              "        vertical-align: top;\n",
              "    }\n",
              "\n",
              "    .dataframe thead th {\n",
              "        text-align: right;\n",
              "    }\n",
              "</style>\n",
              "<table border=\"1\" class=\"dataframe\">\n",
              "  <thead>\n",
              "    <tr style=\"text-align: right;\">\n",
              "      <th></th>\n",
              "      <th>Date</th>\n",
              "      <th>Add1(in Thousands)</th>\n",
              "      <th>Add2(in Thousands)</th>\n",
              "      <th>Add3(in Thousands)</th>\n",
              "      <th>Add4(in Thousands)</th>\n",
              "      <th>Add5(in Thousands)</th>\n",
              "      <th>Profit(in Thousands)</th>\n",
              "    </tr>\n",
              "  </thead>\n",
              "  <tbody>\n",
              "    <tr>\n",
              "      <th>0</th>\n",
              "      <td>2018-10-08</td>\n",
              "      <td>208.00</td>\n",
              "      <td>222.25</td>\n",
              "      <td>206.85</td>\n",
              "      <td>216.00</td>\n",
              "      <td>215.15</td>\n",
              "      <td>4093.065</td>\n",
              "    </tr>\n",
              "    <tr>\n",
              "      <th>1</th>\n",
              "      <td>2018-10-05</td>\n",
              "      <td>217.00</td>\n",
              "      <td>218.60</td>\n",
              "      <td>205.90</td>\n",
              "      <td>210.25</td>\n",
              "      <td>209.20</td>\n",
              "      <td>4042.448</td>\n",
              "    </tr>\n",
              "    <tr>\n",
              "      <th>2</th>\n",
              "      <td>2018-10-04</td>\n",
              "      <td>223.50</td>\n",
              "      <td>227.80</td>\n",
              "      <td>216.15</td>\n",
              "      <td>217.25</td>\n",
              "      <td>218.20</td>\n",
              "      <td>4213.819</td>\n",
              "    </tr>\n",
              "    <tr>\n",
              "      <th>3</th>\n",
              "      <td>2018-10-03</td>\n",
              "      <td>230.00</td>\n",
              "      <td>237.50</td>\n",
              "      <td>225.75</td>\n",
              "      <td>226.45</td>\n",
              "      <td>227.60</td>\n",
              "      <td>4391.665</td>\n",
              "    </tr>\n",
              "    <tr>\n",
              "      <th>4</th>\n",
              "      <td>2018-10-01</td>\n",
              "      <td>234.55</td>\n",
              "      <td>234.60</td>\n",
              "      <td>221.05</td>\n",
              "      <td>230.30</td>\n",
              "      <td>230.90</td>\n",
              "      <td>4350.683</td>\n",
              "    </tr>\n",
              "    <tr>\n",
              "      <th>...</th>\n",
              "      <td>...</td>\n",
              "      <td>...</td>\n",
              "      <td>...</td>\n",
              "      <td>...</td>\n",
              "      <td>...</td>\n",
              "      <td>...</td>\n",
              "      <td>...</td>\n",
              "    </tr>\n",
              "    <tr>\n",
              "      <th>200</th>\n",
              "      <td>2017-12-14</td>\n",
              "      <td>288.00</td>\n",
              "      <td>288.25</td>\n",
              "      <td>279.20</td>\n",
              "      <td>284.50</td>\n",
              "      <td>284.30</td>\n",
              "      <td>5374.105</td>\n",
              "    </tr>\n",
              "    <tr>\n",
              "      <th>201</th>\n",
              "      <td>2017-12-13</td>\n",
              "      <td>290.00</td>\n",
              "      <td>292.50</td>\n",
              "      <td>282.20</td>\n",
              "      <td>284.80</td>\n",
              "      <td>284.45</td>\n",
              "      <td>5439.655</td>\n",
              "    </tr>\n",
              "    <tr>\n",
              "      <th>202</th>\n",
              "      <td>2017-12-12</td>\n",
              "      <td>298.60</td>\n",
              "      <td>298.60</td>\n",
              "      <td>286.65</td>\n",
              "      <td>287.45</td>\n",
              "      <td>287.80</td>\n",
              "      <td>5545.013</td>\n",
              "    </tr>\n",
              "    <tr>\n",
              "      <th>203</th>\n",
              "      <td>2017-12-11</td>\n",
              "      <td>290.00</td>\n",
              "      <td>299.55</td>\n",
              "      <td>285.90</td>\n",
              "      <td>297.85</td>\n",
              "      <td>298.35</td>\n",
              "      <td>5565.444</td>\n",
              "    </tr>\n",
              "    <tr>\n",
              "      <th>204</th>\n",
              "      <td>2017-12-08</td>\n",
              "      <td>287.55</td>\n",
              "      <td>289.90</td>\n",
              "      <td>285.05</td>\n",
              "      <td>288.05</td>\n",
              "      <td>288.45</td>\n",
              "      <td>5421.842</td>\n",
              "    </tr>\n",
              "  </tbody>\n",
              "</table>\n",
              "<p>205 rows × 7 columns</p>\n",
              "</div>"
            ],
            "text/plain": [
              "           Date  Add1(in Thousands)  ...  Add5(in Thousands)  Profit(in Thousands)\n",
              "0    2018-10-08              208.00  ...              215.15              4093.065\n",
              "1    2018-10-05              217.00  ...              209.20              4042.448\n",
              "2    2018-10-04              223.50  ...              218.20              4213.819\n",
              "3    2018-10-03              230.00  ...              227.60              4391.665\n",
              "4    2018-10-01              234.55  ...              230.90              4350.683\n",
              "..          ...                 ...  ...                 ...                   ...\n",
              "200  2017-12-14              288.00  ...              284.30              5374.105\n",
              "201  2017-12-13              290.00  ...              284.45              5439.655\n",
              "202  2017-12-12              298.60  ...              287.80              5545.013\n",
              "203  2017-12-11              290.00  ...              298.35              5565.444\n",
              "204  2017-12-08              287.55  ...              288.45              5421.842\n",
              "\n",
              "[205 rows x 7 columns]"
            ]
          },
          "metadata": {},
          "execution_count": 5
        }
      ]
    },
    {
      "cell_type": "code",
      "metadata": {
        "colab": {
          "base_uri": "https://localhost:8080/"
        },
        "id": "1W4ntoRvyUZ_",
        "outputId": "022918d6-f6d8-4cae-adfe-819aa25cdb00"
      },
      "source": [
        "Data.isna().sum()"
      ],
      "execution_count": 6,
      "outputs": [
        {
          "output_type": "execute_result",
          "data": {
            "text/plain": [
              "Date                    0\n",
              "Add1(in Thousands)      0\n",
              "Add2(in Thousands)      0\n",
              "Add3(in Thousands)      0\n",
              "Add4(in Thousands)      0\n",
              "Add5(in Thousands)      0\n",
              "Profit(in Thousands)    0\n",
              "dtype: int64"
            ]
          },
          "metadata": {},
          "execution_count": 6
        }
      ]
    },
    {
      "cell_type": "markdown",
      "source": [
        "**Check for Relationship**"
      ],
      "metadata": {
        "id": "-p1doKryhYyu"
      }
    },
    {
      "cell_type": "code",
      "metadata": {
        "colab": {
          "base_uri": "https://localhost:8080/",
          "height": 498
        },
        "id": "Dr2nLtVqzj0W",
        "outputId": "49efbbbc-3a74-465c-d871-5c873a54b3c9"
      },
      "source": [
        "Data.hist(figsize=(10,8))\n",
        "plt.show()"
      ],
      "execution_count": 7,
      "outputs": [
        {
          "output_type": "display_data",
          "data": {
            "image/png": "[encoded data removed]",
            "text/plain": [
              "<Figure size 720x576 with 6 Axes>"
            ]
          },
          "metadata": {
            "needs_background": "light"
          }
        }
      ]
    },
    {
      "cell_type": "markdown",
      "source": [
        "**Correlation**"
      ],
      "metadata": {
        "id": "b1Hykc6lhUhN"
      }
    },
    {
      "cell_type": "code",
      "metadata": {
        "colab": {
          "base_uri": "https://localhost:8080/",
          "height": 486
        },
        "id": "OJcIRFU81cMl",
        "outputId": "8c2b422a-effa-46f9-8102-9f440da30ff0"
      },
      "source": [
        "correlation=Data.corr()\n",
        "plt.subplots(figsize=(20,8))\n",
        "sns.heatmap(correlation, vmin=0.97, vmax=1.0,annot=True,Linewidth=0.2)\n",
        "plt.show()"
      ],
      "execution_count": 8,
      "outputs": [
        {
          "output_type": "display_data",
          "data": {
            "image/png": "[encoded data removed]",
            "text/plain": [
              "<Figure size 1440x576 with 2 Axes>"
            ]
          },
          "metadata": {
            "needs_background": "light"
          }
        }
      ]
    },
    {
      "cell_type": "markdown",
      "source": [
        "**Regression Model**"
      ],
      "metadata": {
        "id": "b1b8W-GUhQMN"
      }
    },
    {
      "cell_type": "code",
      "metadata": {
        "id": "2jir3hD73ZKS"
      },
      "source": [
        "from sklearn.model_selection import train_test_split\n",
        "y=Data['Profit(in Thousands)']\n",
        "x=Data.drop(['Profit(in Thousands)','Add4(in Thousands)','Date'],axis=1)\n",
        "x_train,x_test,y_train,y_test = train_test_split(x,y,random_state=45,test_size=0.25)"
      ],
      "execution_count": 9,
      "outputs": []
    },
    {
      "cell_type": "code",
      "metadata": {
        "colab": {
          "base_uri": "https://localhost:8080/"
        },
        "id": "zQ5CMQMv4uLw",
        "outputId": "48a95726-4573-40af-9e66-33a192f9b8d1"
      },
      "source": [
        "from sklearn import linear_model\n",
        "lr=linear_model.LinearRegression()\n",
        "model=lr.fit(x_train,y_train)\n",
        "pred=model.predict(x_test)\n",
        "print(y_test)\n",
        "print(pred)"
      ],
      "execution_count": 10,
      "outputs": [
        {
          "output_type": "stream",
          "name": "stdout",
          "text": [
            "148    5190.758\n",
            "64     5239.060\n",
            "170    5728.804\n",
            "72     4890.723\n",
            "25     4436.321\n",
            "13     4434.805\n",
            "79     5013.207\n",
            "83     4980.446\n",
            "3      4391.665\n",
            "84     4925.861\n",
            "137    5051.755\n",
            "58     5133.766\n",
            "130    4922.845\n",
            "154    5017.503\n",
            "192    5767.839\n",
            "186    5861.830\n",
            "115    5397.739\n",
            "132    4907.560\n",
            "44     4648.627\n",
            "109    5577.150\n",
            "67     5001.615\n",
            "80     5043.705\n",
            "45     4606.340\n",
            "114    5378.379\n",
            "107    5452.280\n",
            "10     4411.775\n",
            "122    5167.878\n",
            "185    5903.253\n",
            "33     4513.600\n",
            "26     4451.999\n",
            "161    5212.949\n",
            "151    5146.949\n",
            "0      4093.065\n",
            "74     5113.337\n",
            "193    5745.806\n",
            "62     5234.487\n",
            "35     4419.421\n",
            "138    5247.011\n",
            "40     4486.996\n",
            "184    5962.336\n",
            "173    5805.521\n",
            "4      4350.683\n",
            "28     4416.136\n",
            "100    5131.898\n",
            "112    5425.190\n",
            "155    5078.636\n",
            "175    5784.540\n",
            "69     5030.451\n",
            "179    6137.800\n",
            "61     5088.455\n",
            "91     4836.837\n",
            "29     4482.183\n",
            "Name: Profit(in Thousands), dtype: float64\n",
            "[5190.11612656 5240.2143031  5729.29339534 4890.75250974 4436.62545367\n",
            " 4435.15611773 5013.66968866 4980.78650458 4392.61595846 4925.56021323\n",
            " 5051.73513207 5133.634404   4922.39609354 5017.69088582 5767.77925956\n",
            " 5861.98267796 5398.07514299 4906.55099087 4648.48284329 5576.98043756\n",
            " 5000.45559339 5043.99179547 4604.82647119 5378.8076692  5452.62641804\n",
            " 4412.8723681  5167.97792684 5903.36711167 4512.56805467 4452.44429819\n",
            " 5212.62571875 5145.70576632 4092.13290161 5113.39848796 5746.39680857\n",
            " 5233.78753073 4418.7668419  5246.81570119 4486.58813716 5962.61260726\n",
            " 5805.16676515 4351.73658383 4415.55684086 5130.80810569 5425.27557691\n",
            " 5078.31459559 5783.22819592 5033.23913062 6137.11592968 5088.44438743\n",
            " 4836.23440032 4482.20955226]\n"
          ]
        }
      ]
    },
    {
      "cell_type": "markdown",
      "source": [
        "**Finding Error**"
      ],
      "metadata": {
        "id": "IxnJW8AShFSW"
      }
    },
    {
      "cell_type": "code",
      "source": [
        "from sklearn.metrics import mean_squared_error\n",
        "print(\"MSE is:\",mean_squared_error(y_test,pred))"
      ],
      "metadata": {
        "colab": {
          "base_uri": "https://localhost:8080/"
        },
        "id": "hD2bIE5kuVkO",
        "outputId": "58b7f637-49cc-4c73-9e2a-8f3f803ce521"
      },
      "execution_count": 11,
      "outputs": [
        {
          "output_type": "stream",
          "name": "stdout",
          "text": [
            "MSE is: 0.5531704802540027\n"
          ]
        }
      ]
    },
    {
      "cell_type": "markdown",
      "source": [
        "Initially mean suared value was high with all columns. Removed one of the highly correlated column and got the error less. After that the prediction model seems to be close"
      ],
      "metadata": {
        "id": "OEa_17M-qcKA"
      }
    },
    {
      "cell_type": "markdown",
      "source": [
        "**Predict Profit with given Data**"
      ],
      "metadata": {
        "id": "Tx472jVTg4XV"
      }
    },
    {
      "cell_type": "code",
      "source": [
        "New_Data=pd.read_excel('/content/drive/MyDrive/week7/Case Study 3/AddData.xlsx')\n",
        "New_Data\n",
        "\n"
      ],
      "metadata": {
        "colab": {
          "base_uri": "https://localhost:8080/",
          "height": 81
        },
        "id": "bgYGskBYYsZ3",
        "outputId": "7ce5c17a-a622-426e-bd62-11ba2419073f"
      },
      "execution_count": 18,
      "outputs": [
        {
          "output_type": "execute_result",
          "data": {
            "text/html": [
              "<div>\n",
              "<style scoped>\n",
              "    .dataframe tbody tr th:only-of-type {\n",
              "        vertical-align: middle;\n",
              "    }\n",
              "\n",
              "    .dataframe tbody tr th {\n",
              "        vertical-align: top;\n",
              "    }\n",
              "\n",
              "    .dataframe thead th {\n",
              "        text-align: right;\n",
              "    }\n",
              "</style>\n",
              "<table border=\"1\" class=\"dataframe\">\n",
              "  <thead>\n",
              "    <tr style=\"text-align: right;\">\n",
              "      <th></th>\n",
              "      <th>Add1(in Thousands)</th>\n",
              "      <th>Add2(in Thousands)</th>\n",
              "      <th>Add3(in Thousands)</th>\n",
              "      <th>Add4(in Thousands)</th>\n",
              "      <th>Add5(in Thousands)</th>\n",
              "    </tr>\n",
              "  </thead>\n",
              "  <tbody>\n",
              "    <tr>\n",
              "      <th>0</th>\n",
              "      <td>290</td>\n",
              "      <td>312</td>\n",
              "      <td>309</td>\n",
              "      <td>298</td>\n",
              "      <td>320</td>\n",
              "    </tr>\n",
              "  </tbody>\n",
              "</table>\n",
              "</div>"
            ],
            "text/plain": [
              "   Add1(in Thousands)  ...  Add5(in Thousands)\n",
              "0                 290  ...                 320\n",
              "\n",
              "[1 rows x 5 columns]"
            ]
          },
          "metadata": {},
          "execution_count": 18
        }
      ]
    },
    {
      "cell_type": "code",
      "source": [
        "New_Data=New_Data.drop(['Add4(in Thousands)'],axis=1)\n",
        "predict_Profit=model.predict(New_Data)\n",
        "print(predict_Profit)"
      ],
      "metadata": {
        "colab": {
          "base_uri": "https://localhost:8080/"
        },
        "id": "6mAzSGtwg1iW",
        "outputId": "14874f73-0e9a-4b0d-e1a2-583b5d2da810"
      },
      "execution_count": 19,
      "outputs": [
        {
          "output_type": "stream",
          "name": "stdout",
          "text": [
            "[5841.97460478]\n"
          ]
        }
      ]
    }
  ]
}